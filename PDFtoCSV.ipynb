{
  "nbformat": 4,
  "nbformat_minor": 0,
  "metadata": {
    "colab": {
      "name": "PDFtoCSV.ipynb",
      "version": "0.3.2",
      "provenance": [],
      "include_colab_link": true
    },
    "kernelspec": {
      "name": "python3",
      "display_name": "Python 3"
    }
  },
  "cells": [
    {
      "cell_type": "markdown",
      "metadata": {
        "id": "view-in-github",
        "colab_type": "text"
      },
      "source": [
        "<a href=\"https://colab.research.google.com/github/nlpbokproject/NLP_BOK_Team/blob/master/PDFtoCSV.ipynb\" target=\"_parent\"><img src=\"https://colab.research.google.com/assets/colab-badge.svg\" alt=\"Open In Colab\"/></a>"
      ]
    },
    {
      "cell_type": "markdown",
      "metadata": {
        "id": "x-UZQmKx0on6",
        "colab_type": "text"
      },
      "source": [
        "# PDF -> CSV"
      ]
    },
    {
      "cell_type": "markdown",
      "metadata": {
        "id": "rKiOLrjg0ujq",
        "colab_type": "text"
      },
      "source": [
        "# import code"
      ]
    },
    {
      "cell_type": "code",
      "metadata": {
        "id": "-Lc0ypy-0msy",
        "colab_type": "code",
        "colab": {}
      },
      "source": [
        "from tika import parser\n",
        "from glob import glob\n",
        "import pandas as pd"
      ],
      "execution_count": 0,
      "outputs": []
    },
    {
      "cell_type": "markdown",
      "metadata": {
        "id": "4fOY7KrQ0lvS",
        "colab_type": "text"
      },
      "source": [
        "# 각 폴더의 모든 파일들의 이름을 각 변수에 저장"
      ]
    },
    {
      "cell_type": "code",
      "metadata": {
        "id": "kV8aFGrS0c7O",
        "colab_type": "code",
        "colab": {}
      },
      "source": [
        "kija = glob('kija/*.*')\n",
        "minu = glob('min/*.*')"
      ],
      "execution_count": 0,
      "outputs": []
    },
    {
      "cell_type": "markdown",
      "metadata": {
        "id": "nNw0SaHE08Qy",
        "colab_type": "text"
      },
      "source": [
        "# 변환코드"
      ]
    },
    {
      "cell_type": "code",
      "metadata": {
        "id": "DrvFoKCX0c9j",
        "colab_type": "code",
        "colab": {}
      },
      "source": [
        "for title in kija:\n",
        "    title = title.replace('\\\\','/') #파일들의 경계가 \\\\ 로 표현되어 에러 발생\n",
        "    raw = parser.from_file(title)\n",
        "    print(raw['content'])"
      ],
      "execution_count": 0,
      "outputs": []
    },
    {
      "cell_type": "code",
      "metadata": {
        "id": "Np4QDE2G0j17",
        "colab_type": "code",
        "colab": {}
      },
      "source": [
        "for title in minu:\n",
        "    title = title.replace('\\\\','/') #파일들의 경계가 \\\\ 로 표현되어 에러 발생\n",
        "    raw = parser.from_file(title)\n",
        "    print(raw['content'])"
      ],
      "execution_count": 0,
      "outputs": []
    }
  ]
}